{
 "cells": [
  {
   "cell_type": "markdown",
   "metadata": {},
   "source": [
    "# Import Modules\n",
    "\n",
    "**Run the cell below to import the relevant modules by running the cell. Select it and type ``shift`` + ``enter``.**"
   ]
  },
  {
   "cell_type": "code",
   "execution_count": 6,
   "metadata": {},
   "outputs": [],
   "source": [
    "import os\n",
    "import sys\n",
    "\n",
    "ROOT_DIR = os.getcwd()[:os.getcwd().rfind('quantum_HEOM')] + 'quantum_HEOM'\n",
    "if ROOT_DIR not in sys.path:\n",
    "    sys.path.append(ROOT_DIR)\n",
    "\n",
    "from quantum_heom import figures as figs\n",
    "from quantum_heom.quantum_system import QuantumSystem"
   ]
  },
  {
   "cell_type": "markdown",
   "metadata": {},
   "source": [
    "# Defining the System"
   ]
  },
  {
   "cell_type": "markdown",
   "metadata": {},
   "source": [
    "After familiarising yourself with the unit system used, a ``QuantumSystem`` object can be defined with your choice of parameters. All the parameters, with conditions and examples of possible values are given:\n",
    "\n",
    "* ``'sites'`` : int\n",
    "    * The number of chromophore sites in the system. \n",
    "    * For the FMO complex, the number of sites must be set to 7.\n",
    "    * When using a ``'spin-boson'`` system Hamiltonian, the number of sites must be 2.\n",
    "    \n",
    "    \n",
    "* ``'init_site_pop'`` : list\n",
    "    * The sites populations of the density matrix in which to put a share of the initial excitation.\n",
    "    * If localising the excitation on site 1, for example, pass ``[1]``\n",
    "    * Specifying two or more sites creates a superposition initial state\n",
    "        * e.g. ``[1, 6]`` places values of 0.5 in site populations $\\rho_{11}$ and $\\rho_{66}$ (for a system size $N \\geq 6$ and normalised so that $\\rho$ remains trace one), as well as in coherences $\\rho_{16}$ and $\\rho_{61}$\n",
    "        \n",
    "\n",
    "* ``'interaction_model'`` : str\n",
    "    * The model that defines the form of system Hamiltonian.\n",
    "    * ``'spin-boson'``, for 2-site systems only; $H_{\\text{sys}} = \\frac{\\epsilon}{2} \\sigma_z + \\frac{\\Delta}{2} \\sigma_x$, where $\\epsilon$ is the difference in site energies and $\\Delta$ is the tunneling strength\n",
    "    * ``'FMO'``, for 7-site systems only.\n",
    "    * ``'custom'``, for any system of arbitrary size. Lets the user define their own custom Hamiltonian that describes the interactions in the system.\n",
    "        * **NOTE**: This code has not been optimized and thus may have unfavourable scaling in computational cost with $N$.\n",
    "\n",
    "\n",
    "* ``'custom_hamiltonian'`` : np.ndarray or str\n",
    "    * Only to be used in conjunction with ``interaction_model='custom'``. Lets the user define their own custom Hamiltonian matrix. Either a 2D numpy array of the Hamiltonian can be passed, or a string of the absolute path to a .dat file containing the matrix. In the case of the latter, the .dat file must be loadable using the ``np.loadtxt()`` function. \n",
    "    * The custom Hamiltonian must be square, real-valued, and have the same dimension as indicated in the ``sites`` parameter.\n",
    "    * As stated above, users should proceed with caution when using larger Hamiltonians due to unfavourable scaling in the system size.\n",
    "    * **IMPORTANT**: care should be taking with the units of the custom Hamiltonian. Passing in units of rad ps^-1 will ensure compatibility with the in-built unit system of quantum\\_HEOM, as all in-built Hamiltonians are provided in these units.\n",
    "    \n",
    "\n",
    "* ``'epsi_delta'`` : tuple of float\n",
    "    * The values for the difference in site energies, $\\epsilon$, and tunneling strength $\\Delta$ used in the constructing the ``'spin-boson'`` system Hamiltonian\n",
    "    * To set $\\epsilon = 20$ rad ps$^{-1}$ and  $\\Delta = 40$ rad ps$^{-1}$, pass the tuple ``(20.0, 40.0)``\n",
    "    \n",
    "    \n",
    "* ``'dynamics_model'`` : str\n",
    "    * The model used to describe the bath relaxation dynamics.\n",
    "    * For the Lindblad models, choose from ; ``'local dephasing lindblad'``, ``'global thermalising lindblad'``, or ``'local thermalising lindblad`''\n",
    "    * For HEOM (only applicable for 2-site systems, with ``'interaction_model'``: ``'spin-boson'``, and the Debye spectral density) set as ``'HEOM'``\n",
    "    \n",
    "   \n",
    "* ``'time_interval'`` : float\n",
    "    * The timestep interval between evaluations of the density matrix, in units of femtoseconds\n",
    "    * For instance ``'time_interval'``: ``5.0`` sets the time interval to 5 fs\n",
    "    \n",
    "    \n",
    "* ``'timesteps'`` : int\n",
    "    * The number of timesteps at which to evaluate the density matrix (separated in time by the value set for ``'time_interval'``)\n",
    "    * Example; ``'timesteps'``: ``500``\n",
    "    \n",
    "    \n",
    "* ``'temperature'`` : float\n",
    "    * The temperature to set the bath at (in Kelvin), i.e. ``300.0`` corresponds to physiological temperature (300 Kelvin)\n",
    "    \n",
    "    \n",
    "* ``'deph_rate'`` : float\n",
    "    * The dephasing rate, $\\Gamma_{\\text{deph}}$, used as the rate constant in the ``'local dephasing lindblad'`` model, as well as the value of the Redfield rate constant at zero frequency, i.e. $k(\\omega=0) = \\Gamma_{\\text{deph}}$ for the expression below.\n",
    "    * The Redfield rate constant is given by: $k(\\omega) = 2[(1 + n_{\\text{BE}}(\\omega))J(\\omega) + n(-\\omega)J(-\\omega)]$\n",
    "    \n",
    "    \n",
    "* ``'cutoff_freq'`` : float\n",
    "    * The value for the cutoff frequency, $\\omega_c$, used in the evaluation of the Debye and Ohmic spectral densities (see below).\n",
    "    \n",
    "    \n",
    "* ``'reorg_energy'`` : float\n",
    "    * The value for the reorganisation energy, $\\lambda$, used in the evaluation of the Debye and Ohmic spectral densities (see below).\n",
    "    \n",
    "    \n",
    "* ``'spectral_density'`` : str\n",
    "    * The spectral density to use to describe the system-bath interaction.\n",
    "    * ``'debye'`` has the form $J(\\omega) = 2 \\lambda \\frac{\\omega \\omega_c}{\\omega^2 + \\omega_c^2}$\n",
    "    * ``'ohmic'``; $J(\\omega) = \\pi \\lambda \\frac{\\omega}{\\omega_c} \\exp (- \\frac{\\omega}{\\omega_c})$\n",
    "    * ``'renger-marcus'``; a parametrised form, given in [T. Renger and R. A. Marcus, *Journal of Chemical Physics*, 2002, **116**, 9997–10019](https://aip.scitation.org/doi/abs/10.1063/1.1470200?casa_token=nW56Fs4FopUAAAAA:ew8Nw8GFojKRfpDxvySiu1ZiwwmG1Rth2giYfJgi04HDObgc9YcTAcfSpNnkvcvc9YHLN-sNwm6d)\n",
    "    \n",
    "    \n",
    "* ``'matsubara_terms'`` : int\n",
    "    * Only needs to be specified if ``'dynamics_model'`` used is ``'HEOM'``\n",
    "    * The number of exponential terms to include in the evaluation of the correlation function, i.e. ``5``\n",
    "    * Also denoted $K$ in the literature.\n",
    "    * Correlation function used in HEOM given by; $C(t>0) = \\sum_k^K c_k \\exp(-\\nu_k t)$\n",
    "    \n",
    "    \n",
    "* ``'matsubara_coeffs'`` : list\n",
    "    * Only needs to be specified if ``'dynamics_model'`` used is ``'HEOM'``\n",
    "    * A list of the matsubara coefficients, $c_k$, in descending order, used in evaluation of the above correlation function.\n",
    "    * If passed as ``None``, QuTiP's HEOM Solver class automatically generates them.\n",
    "    \n",
    "    \n",
    "* ``'matsubara_frequencies'`` : list\n",
    "    * Only needs to be specified if ``'dynamics_model'`` used is ``'HEOM'``\n",
    "    * A list of the matsubara frequencies, $\\nu_k$, in ascending order.\n",
    "    * If passed as ``None``, QuTiP's HEOM Solver class automatically generates them.\n",
    "    \n",
    "    \n",
    "* ``'bath_cutoff'`` : int\n",
    "    * Only needs to be specified if ``'dynamics_model'`` used is ``'HEOM'``\n",
    "    * The number of bath terms to include, i.e. ``20``\n",
    "    * Otherwise known as the hierarchy truncation level, $N_c$\n",
    "    \n",
    "    \n",
    "An example using these parameters for defining a system described by HEOM dynamics is shown below."
   ]
  },
  {
   "cell_type": "markdown",
   "metadata": {},
   "source": [
    "## Example"
   ]
  },
  {
   "cell_type": "code",
   "execution_count": 7,
   "metadata": {},
   "outputs": [],
   "source": [
    "args1 = {'sites': 2,\n",
    "         'init_site_pop': [1],\n",
    "         'interaction_model': 'spin-boson',\n",
    "         'epsi_delta': (20, 40),             # rad ps^-1\n",
    "         'dynamics_model': 'HEOM',\n",
    "         'time_interval': 5.0,               # fs\n",
    "         'timesteps': 500,\n",
    "         'temperature': 300.0,               # K\n",
    "         'cutoff_freq': 6.0,                 # rad ps^-1\n",
    "         'reorg_energy': 6.0,                # rad ps^-1\n",
    "         'spectral_density': 'debye',\n",
    "         'matsubara_terms': 4,\n",
    "         'matsubara_coeffs': None,\n",
    "         'matsubara_freqs': None,            # rad ps^-1\n",
    "         'bath_cutoff': 10\n",
    "        }\n",
    "\n",
    "q1 = QuantumSystem(**args1)"
   ]
  },
  {
   "cell_type": "markdown",
   "metadata": {},
   "source": [
    "The attributes of a ``QuantumSystem`` object can be accessed at any time by called the ``__dict__`` attribute:"
   ]
  },
  {
   "cell_type": "code",
   "execution_count": 8,
   "metadata": {},
   "outputs": [
    {
     "data": {
      "text/plain": [
       "{'_sites': 2,\n",
       " '_init_site_pop': [1],\n",
       " '_interaction_model': 'spin-boson',\n",
       " '_epsi_delta': (20, 40),\n",
       " '_dynamics_model': 'HEOM',\n",
       " '_time_interval': 5.0,\n",
       " '_timesteps': 500,\n",
       " '_temperature': 300.0,\n",
       " '_cutoff_freq': 6.0,\n",
       " '_reorg_energy': 6.0,\n",
       " '_spectral_density': 'debye',\n",
       " '_matsubara_terms': 4,\n",
       " '_matsubara_coeffs': None,\n",
       " '_matsubara_freqs': None,\n",
       " '_bath_cutoff': 10}"
      ]
     },
     "execution_count": 8,
     "metadata": {},
     "output_type": "execute_result"
    }
   ],
   "source": [
    "q1.__dict__"
   ]
  },
  {
   "cell_type": "markdown",
   "metadata": {},
   "source": [
    "# Plotting Dynamics"
   ]
  },
  {
   "cell_type": "markdown",
   "metadata": {},
   "source": [
    "The possible values for each of the arguments used to plot the dynamics are listed here.\n",
    "\n",
    "* ``'elements'`` : str, or list of str\n",
    "    * a string of ``'all'`` (plots all elements), ``'diagonals'`` (plots only diagonals, or ``'off-diagonals'`` (only off-diagonals).\n",
    "    * a list of density matrix elements in string format; i.e. to plot elements $\\rho_{11}$ and $\\rho_{21}$, the list ``['11', '21']`` should be passed.\n",
    "    * ``None``, plots none of the density matrix elements. Can be used if only wanting to plot a ``trace_measure`` (see below).\n",
    "     \n",
    "     \n",
    "* ``'coherences'`` : str, or list of str\n",
    "    * either ``'imag'`` to plot the imaginary parts of the coherences, ``'real'`` to plot the real, or a list of both ``['imag', 'real']`` to plot both contributions.\n",
    "      \n",
    "\n",
    "* ``'trace_measure'`` : str, or list of str\n",
    "    * ``'squared'`` to plot the trace of the density matrix squared, $\\text{tr} (\\rho (t)^2)$ at each timestep; a measure of the purity of the quantum state\n",
    "    * ``'distance'`` to plot the trace distance of the state at each timestep with respect to the **canonical** thermal state, $D(\\rho (t), \\rho_{\\text{canon}}) = 0.5 \\text{tr} | \\rho (t) - \\rho_{\\text{canon}} |$\n",
    "    \n",
    "    \n",
    "* ``'asymptote'`` : bool \n",
    "    * either ``True``, which plots a horizontal asymptote at a value of $1/N$ (useful for seeing the population of all sites in the maximally mixed state), or ``False``\n",
    "    \n",
    "    \n",
    "* ``'view_3d'`` : bool\n",
    "    * either ``True``, which plots the dynamics figure in 3D, or ``False``, which does so in 2D.\n",
    "    \n",
    "    \n",
    "* ``'save'`` : bool\n",
    "    * either ``True``, which saves the figure into the ``quantum\\_HEOM/doc/figures`` relative path on your local drive with a descriptive filename, or ``False``, which doesn't."
   ]
  },
  {
   "cell_type": "code",
   "execution_count": 9,
   "metadata": {},
   "outputs": [
    {
     "data": {
      "text/plain": [
       "<matplotlib.axes._subplots.AxesSubplot at 0x10a4cb5d0>"
      ]
     },
     "execution_count": 9,
     "metadata": {},
     "output_type": "execute_result"
    },
    {
     "data": {
      "image/png": "[encoded data removed]",
      "text/plain": [
       "<Figure size 576x360 with 1 Axes>"
      ]
     },
     "metadata": {
      "needs_background": "light"
     },
     "output_type": "display_data"
    }
   ],
   "source": [
    "plot_args = {'elements': ['11', '21'], \n",
    "             'coherences': ['imag'], \n",
    "             'trace_measure': [None], \n",
    "             'asymptote': False, \n",
    "             'view_3d': False, \n",
    "             'save': False}\n",
    "\n",
    "\n",
    "figs.plot_dynamics(q1, **plot_args)"
   ]
  },
  {
   "cell_type": "markdown",
   "metadata": {},
   "source": [
    "Notice that when ``q1.__dict__`` is called now, the ``'_matsubara_coeffs'`` and ``'matsubara_freqs'``, that were originally set to ``None``, have been assigned values. This is because the ``QuantumSystem`` object has been passed through QuTiP's HEOM solver upon using the ``figs.plot_dynamics(...)`` method, which has automatically assigned these values."
   ]
  },
  {
   "cell_type": "code",
   "execution_count": 10,
   "metadata": {},
   "outputs": [
    {
     "data": {
      "text/plain": [
       "{'_sites': 2,\n",
       " '_init_site_pop': [1],\n",
       " '_interaction_model': 'spin-boson',\n",
       " '_epsi_delta': (20, 40),\n",
       " '_dynamics_model': 'HEOM',\n",
       " '_time_interval': 5.0,\n",
       " '_timesteps': 500,\n",
       " '_temperature': 300.0,\n",
       " '_cutoff_freq': 6.0,\n",
       " '_reorg_energy': 6.0,\n",
       " '_spectral_density': 'debye',\n",
       " '_matsubara_terms': 4,\n",
       " '_matsubara_coeffs': array([470.3961199 -36.j,  22.93186762 +0.j,  11.46084963 +0.j,\n",
       "          7.63993907 +0.j]),\n",
       " '_matsubara_freqs': array([  6.        , 246.77894367, 493.55788733, 740.336831  ]),\n",
       " '_bath_cutoff': 10}"
      ]
     },
     "execution_count": 10,
     "metadata": {},
     "output_type": "execute_result"
    }
   ],
   "source": [
    "q1.__dict__"
   ]
  },
  {
   "cell_type": "markdown",
   "metadata": {},
   "source": [
    "# Next steps"
   ]
  },
  {
   "cell_type": "markdown",
   "metadata": {},
   "source": [
    "Now that the parameters have been defined and possible values demonstrated, some examples will be considered in the next tutorial, ``quantum_HEOM/doc/tutorials/3_example_plots.ipynb``"
   ]
  },
  {
   "cell_type": "code",
   "execution_count": null,
   "metadata": {},
   "outputs": [],
   "source": []
  }
 ],
 "metadata": {
  "kernelspec": {
   "display_name": "qheom",
   "language": "python",
   "name": "qheom"
  },
  "language_info": {
   "codemirror_mode": {
    "name": "ipython",
    "version": 3
   },
   "file_extension": ".py",
   "mimetype": "text/x-python",
   "name": "python",
   "nbconvert_exporter": "python",
   "pygments_lexer": "ipython3",
   "version": "3.7.6"
  }
 },
 "nbformat": 4,
 "nbformat_minor": 2
}
